{
 "cells": [
  {
   "cell_type": "markdown",
   "metadata": {},
   "source": [
    "Faça um programa que tenha uma função chamada area(), que receba as dimesões de um terreno retangular (largura e comprimento), e mostre a área do terreno."
   ]
  },
  {
   "cell_type": "code",
   "execution_count": 3,
   "metadata": {},
   "outputs": [
    {
     "name": "stdout",
     "output_type": "stream",
     "text": [
      " A área do terreno e de 70.0 metros.\n"
     ]
    }
   ],
   "source": [
    "#Minha versão\n",
    "\n",
    "def area():\n",
    "    altura = float(input('Digite a altura do terreno em metros: '))\n",
    "    largura = float(input('Digite a largura do terreno em metros: '))\n",
    "    area = altura * largura\n",
    "    print(f' A área do terreno e de {area} metros.')\n",
    "\n",
    "\n",
    "area()\n"
   ]
  },
  {
   "cell_type": "code",
   "execution_count": null,
   "metadata": {},
   "outputs": [],
   "source": [
    "#VErsão do professor\n",
    "\n",
    "def area():\n",
    "    larg = float(input('Digite a largura do seu terreno: '))\n",
    "    comp = float(input('Digite a comprimento do seu terreno: '))\n",
    "    ar = larg * comp\n",
    "    print(f'O seu terreno tem área de {ar}m².')\n",
    "    \n",
    "\n",
    "area()\n"
   ]
  }
 ],
 "metadata": {
  "kernelspec": {
   "display_name": "Python 3",
   "language": "python",
   "name": "python3"
  },
  "language_info": {
   "codemirror_mode": {
    "name": "ipython",
    "version": 3
   },
   "file_extension": ".py",
   "mimetype": "text/x-python",
   "name": "python",
   "nbconvert_exporter": "python",
   "pygments_lexer": "ipython3",
   "version": "3.11.4"
  },
  "orig_nbformat": 4
 },
 "nbformat": 4,
 "nbformat_minor": 2
}
