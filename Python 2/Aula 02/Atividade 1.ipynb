{
 "cells": [
  {
   "cell_type": "markdown",
   "metadata": {},
   "source": [
    "Crie um algoritmo em que o usuário possa fornecer 4 números, fazendo com que eles fiquem registrados em uma variável\n",
    "composta, sendo que os números digitados sempre irão para o ínico da lista, no fim remova o terceiro número e mostre o resultado."
   ]
  },
  {
   "cell_type": "code",
   "execution_count": null,
   "metadata": {},
   "outputs": [],
   "source": [
    "#Minha versão\n",
    "\n",
    "lista = []\n",
    "for c in range(1, 5):\n",
    "    novo_numero = int(input('Digite o novo número: '))\n",
    "    lista.insert(0, novo_numero)\n",
    "lista.pop(2)\n",
    "print(lista)"
   ]
  },
  {
   "cell_type": "code",
   "execution_count": null,
   "metadata": {},
   "outputs": [],
   "source": [
    "#Versão do Professor\n",
    "\n",
    "num = lista()\n",
    "for c in range(1, 5):\n",
    "    num.insert(0, int(input(f'Forneça o {c}° número')))\n",
    "lista.pop(2)\n",
    "print(lista)"
   ]
  }
 ],
 "metadata": {
  "language_info": {
   "name": "python"
  },
  "orig_nbformat": 4
 },
 "nbformat": 4,
 "nbformat_minor": 2
}
