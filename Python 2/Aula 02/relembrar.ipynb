{
 "cells": [
  {
   "cell_type": "code",
   "execution_count": 9,
   "metadata": {},
   "outputs": [
    {
     "name": "stdout",
     "output_type": "stream",
     "text": [
      "['arroz', 'feijão', 'salada', 'macarrão', 'peixe', 'carne']\n",
      "[6, 7, 8, 9, 10, 11, 12, 13, 14, 15, 16, 17, 18]\n"
     ]
    }
   ],
   "source": [
    "comida = ['arroz', 'feijão', 'macarrão', 'peixe']\n",
    "comida.append('carne')\n",
    "comida.insert(2, 'salada')\n",
    "print(comida)\n",
    "num = list(range(6, 19))\n",
    "print(num)"
   ]
  },
  {
   "cell_type": "markdown",
   "metadata": {},
   "source": [
    "pop (remove o último item da lista, pode ser usado parâmetros para remover um em específico.).\n",
    "del (deleta um item dentro do parâmentro em [], também remove + de 1 por vez seprando por :.).\n",
    "remove (deleta, + tem que digitar o que quer remover. remove a primeira opção achada).\n"
   ]
  },
  {
   "cell_type": "code",
   "execution_count": 10,
   "metadata": {},
   "outputs": [
    {
     "name": "stdout",
     "output_type": "stream",
     "text": [
      " 1° Eu vou comer arroz.\n",
      " 2° Eu vou comer feijão.\n",
      " 3° Eu vou comer salada.\n",
      " 4° Eu vou comer macarrão.\n",
      " 5° Eu vou comer peixe.\n",
      " 6° Eu vou comer carne.\n",
      "1\n",
      "2\n",
      "3\n",
      "4\n",
      "5\n",
      "6\n",
      "7\n",
      "8\n",
      "9\n"
     ]
    }
   ],
   "source": [
    "#Estrutura de repetição.\n",
    "for c, v in enumerate(comida):\n",
    "    print(f' {c+1}° Eu vou comer {v}.')\n",
    "\n",
    "for c in range(1, 10):\n",
    "    print(c)"
   ]
  },
  {
   "cell_type": "code",
   "execution_count": 8,
   "metadata": {},
   "outputs": [
    {
     "name": "stdout",
     "output_type": "stream",
     "text": [
      "[1, 3, 25, 40, 80, 80, 80]\n",
      "\n",
      "A lista não tem mais o número 80.\n",
      "[1, 3, 25, 40]\n"
     ]
    }
   ],
   "source": [
    "valores = [40, 3, 25, 1]\n",
    "valores.sort()\n",
    "valores.append(80)\n",
    "valores.append(80)\n",
    "valores.append(80)\n",
    "print(valores)\n",
    "while True:\n",
    "    if 80 in valores:\n",
    "        valores.remove(80)\n",
    "    else:\n",
    "        print('\\nA lista não tem mais o número 80.')\n",
    "        break\n",
    "print(valores)"
   ]
  },
  {
   "cell_type": "code",
   "execution_count": 11,
   "metadata": {},
   "outputs": [
    {
     "name": "stdout",
     "output_type": "stream",
     "text": [
      "lista A: [0, 2, 5, 9]\n",
      "lista B: [0, 2, 8, 9]\n"
     ]
    }
   ],
   "source": [
    "#Cópia de lista.\n",
    "a = [0, 2, 5, 9]\n",
    "b = a[:]\n",
    "b[2] = 8\n",
    "print(f'lista A: {a}')\n",
    "print(f'lista B: {b}')"
   ]
  },
  {
   "cell_type": "code",
   "execution_count": 12,
   "metadata": {},
   "outputs": [
    {
     "name": "stdout",
     "output_type": "stream",
     "text": [
      "[2, 4, 4, 5, 7, 9, 13]\n"
     ]
    }
   ],
   "source": [
    "#Ordenar\n",
    "a = [9, 5, 4, 7, 13, 2, 4]\n",
    "a.sort() #Do menor para o maior. Para inveretr (reverse=True).\n",
    "print(a)"
   ]
  },
  {
   "cell_type": "code",
   "execution_count": 14,
   "metadata": {},
   "outputs": [],
   "source": [
    "num = list()\n",
    "for c in range(1, 4):\n",
    "    num.append(int(input('Digite o valor para ser adicionado: ')))\n",
    "    print(num)"
   ]
  }
 ],
 "metadata": {
  "kernelspec": {
   "display_name": "Python 3",
   "language": "python",
   "name": "python3"
  },
  "language_info": {
   "codemirror_mode": {
    "name": "ipython",
    "version": 3
   },
   "file_extension": ".py",
   "mimetype": "text/x-python",
   "name": "python",
   "nbconvert_exporter": "python",
   "pygments_lexer": "ipython3",
   "version": "3.11.4"
  },
  "orig_nbformat": 4
 },
 "nbformat": 4,
 "nbformat_minor": 2
}
