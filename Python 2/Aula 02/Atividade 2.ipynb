{
 "cells": [
  {
   "cell_type": "markdown",
   "metadata": {},
   "source": [
    "Crie um programa que vai ler vários números e coloque em uma lista. Depois disso, crie duas listas extras que vão conter apenas os valores pares e os valores ímpares digitados reespectivamente.\n",
    "Ao final mostre o contúdo das três listas geradas.\n"
   ]
  },
  {
   "cell_type": "code",
   "execution_count": null,
   "metadata": {},
   "outputs": [],
   "source": [
    "# Minha Versão\n",
    "\n",
    "lista = []\n",
    "lista_pares = []\n",
    "lista_impares = []\n",
    "while True:\n",
    "    pergunta = str(input('Gostaria de colocar um número na lista? ')).upper().strip(0)\n",
    "    if pergunta == 'S':\n",
    "        num = int(input('Digite o número para a lista: '))\n",
    "        lista.append(num)\n",
    "        if num % 2 :\n",
    "            lista_pares.append(num)\n",
    "        else:\n",
    "            lista_impares.append(num)\n",
    "    else:\n",
    "        break\n",
    "\n",
    "print(f'Lista dos números digitados: {lista}.\\nlista dos números pares: {lista_impares}.\\nlista dos números ímpares:{lista_pares}.')"
   ]
  },
  {
   "cell_type": "code",
   "execution_count": 1,
   "metadata": {},
   "outputs": [],
   "source": [
    "#Versão do professor\n",
    "\n",
    "numeros = list()\n",
    "while True:\n",
    "    numeros.append(int(input('Forneça um número: ')))\n",
    "    resp = str(input('Deseja continuar ? [s/n] ')).lower().strip(0)\n",
    "    if resp == 'n':\n",
    "        break\n",
    "print(f'A sua lista geral tem os valores:\\n{numeros}')\n",
    "listaPAR= list()\n",
    "listaIMPAR = list()\n",
    "for c in numeros:\n",
    "    if c % 2 == 0:\n",
    "        listaPAR.append(c)\n",
    "    else:\n",
    "        listaIMPAR.append(c)\n",
    "print(f'A lista par tem os valores:\\n{listaPAR}')\n",
    "print(f'A lista ímpar tem os valores:\\n{lista_impares}')"
   ]
  }
 ],
 "metadata": {
  "kernelspec": {
   "display_name": "Python 3",
   "language": "python",
   "name": "python3"
  },
  "language_info": {
   "codemirror_mode": {
    "name": "ipython",
    "version": 3
   },
   "file_extension": ".py",
   "mimetype": "text/x-python",
   "name": "python",
   "nbconvert_exporter": "python",
   "pygments_lexer": "ipython3",
   "version": "3.11.4"
  },
  "orig_nbformat": 4
 },
 "nbformat": 4,
 "nbformat_minor": 2
}
