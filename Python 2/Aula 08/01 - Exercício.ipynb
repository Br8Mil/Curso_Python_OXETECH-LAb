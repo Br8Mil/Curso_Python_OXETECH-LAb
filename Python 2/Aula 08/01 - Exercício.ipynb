{
 "cells": [
  {
   "cell_type": "markdown",
   "metadata": {},
   "source": [
    "#Faça um programa que leia o nome e a média de um aluno.\n",
    "Guardando também a situação(aprovado ou reprovado) em um dicionário.\n",
    "No final, mostre o conteúdo da estrutura na tela."
   ]
  },
  {
   "cell_type": "code",
   "execution_count": 13,
   "metadata": {},
   "outputs": [
    {
     "name": "stdout",
     "output_type": "stream",
     "text": [
      "\n",
      "O aluno Rodrigo teve a nota 8.0 e foi Aprovado.\n"
     ]
    }
   ],
   "source": [
    "#Minha versão\n",
    "\n",
    "resultado = dict()\n",
    "aluno_nome = str(input('Digite o nome do aluno: '))\n",
    "aluno_nota = float(input('Digite a nota do mesmo: '))\n",
    "resultado[aluno_nome] = aluno_nome\n",
    "resultado[aluno_nota] = aluno_nota\n",
    "if aluno_nota >= 7:\n",
    "    resultado['Situação'] = 'Aprovado'\n",
    "else:\n",
    "    resultado['Situação'] = 'Reprovado'\n",
    "\n",
    "print(f'\\nO aluno {aluno_nome} teve a nota {aluno_nota} e foi {resultado[\"Situação\"]}.')"
   ]
  },
  {
   "cell_type": "code",
   "execution_count": 17,
   "metadata": {},
   "outputs": [
    {
     "name": "stdout",
     "output_type": "stream",
     "text": [
      "Nome é igual a Rodrigo.\n",
      "Média é igual a 8.0.\n",
      "Situação é igual a Aprovado.\n"
     ]
    }
   ],
   "source": [
    "#Versão do professor\n",
    "\n",
    "aluno = dict()\n",
    "aluno['Nome'] = str(input('Nome: '))\n",
    "aluno['Média'] = float(input(f'Média de {aluno[\"Nome\"]}: '))\n",
    "if aluno['Média'] >= 7:\n",
    "    resultado = 'Aprovado'\n",
    "else:\n",
    "    resultado = 'Reprovado'\n",
    "aluno['Situação'] = resultado\n",
    "for k, v in aluno.items():\n",
    "    print(f'{k} é igual a {v}.')"
   ]
  },
  {
   "cell_type": "markdown",
   "metadata": {},
   "source": [
    "#Crie um programa que leia o nome, ano de nascimento e a carteira de trabalho, e cadastreo (com idade) em um dicionário.\n",
    "\n",
    "Se por acaso a CTPS for diferente de 0, o dicionário também receberá o ano de contratação e o salário.\n",
    "\n",
    "Calcule e acrescente, além da idade, com quantos anos a pessoa irá se aposentar. Considere 35 anos de contibruição."
   ]
  },
  {
   "cell_type": "code",
   "execution_count": 4,
   "metadata": {},
   "outputs": [
    {
     "ename": "TypeError",
     "evalue": "'builtin_function_or_method' object is not subscriptable",
     "output_type": "error",
     "traceback": [
      "\u001b[1;31m---------------------------------------------------------------------------\u001b[0m",
      "\u001b[1;31mTypeError\u001b[0m                                 Traceback (most recent call last)",
      "Cell \u001b[1;32mIn[4], line 13\u001b[0m\n\u001b[0;32m     11\u001b[0m     \u001b[39mprint\u001b[39m(\u001b[39mf\u001b[39m\u001b[39m'\u001b[39m\u001b[39mCom o salário de: \u001b[39m\u001b[39m{\u001b[39;00msituacao\u001b[39m.\u001b[39mvalues[\u001b[39m\"\u001b[39m\u001b[39mSalário\u001b[39m\u001b[39m\"\u001b[39m]\u001b[39m}\u001b[39;00m\u001b[39m\\n\u001b[39;00m\u001b[39mE se aposentará daqui a \u001b[39m\u001b[39m{\u001b[39;00mtempo_aposentar\u001b[39m}\u001b[39;00m\u001b[39m anos.\u001b[39m\u001b[39m'\u001b[39m)\n\u001b[0;32m     12\u001b[0m \u001b[39melse\u001b[39;00m:\n\u001b[1;32m---> 13\u001b[0m     \u001b[39mprint\u001b[39m(\u001b[39mf\u001b[39m\u001b[39m'\u001b[39m\u001b[39mNome: \u001b[39m\u001b[39m{\u001b[39;00msituacao\u001b[39m.\u001b[39;49mkeys[\u001b[39m\"\u001b[39;49m\u001b[39mNome\u001b[39;49m\u001b[39m\"\u001b[39;49m]\u001b[39m}\u001b[39;00m\u001b[39m\\n\u001b[39;00m\u001b[39mData de Nascimento: \u001b[39m\u001b[39m{\u001b[39;00msituacao\u001b[39m.\u001b[39mkeys[\u001b[39m\"\u001b[39m\u001b[39mData de Nascimento\u001b[39m\u001b[39m\"\u001b[39m]\u001b[39m}\u001b[39;00m\u001b[39m\\n\u001b[39;00m\u001b[39mNão possui carteira de trabalho.\u001b[39m\u001b[39m'\u001b[39m)\n",
      "\u001b[1;31mTypeError\u001b[0m: 'builtin_function_or_method' object is not subscriptable"
     ]
    }
   ],
   "source": [
    "#Minha versão\n",
    "\n",
    "situacao = dict()\n",
    "situacao['Nome'] = str(input('Digite o nome: '))\n",
    "situacao['Data de Nascimento'] = int(input('Digite o ano de nasciemento: '))\n",
    "trabalho = str(input('Você possui carteira de trabalho? [S/N]')).lower().strip()\n",
    "if trabalho == 's':\n",
    "    situacao['CPTS'] = int(input('Digite o número da CPTS da sua carteira.'))\n",
    "    situacao['Ano de Contratação'] = int(input('Qual o ano de contratação.'))\n",
    "    situacao['Salário'] = float(input('Por favor digite seus salário: .'))\n",
    "    tempo_aposentar = situacao.values['Data de Nascimento'] - situacao.values['Ano de Contratação']\n",
    "    print(f'Nome: {situacao.values[\"Nome\"]}\\nData de Nascimento: {situacao.values[\"Data de Nascimento\"]}\\nCTPS: {situacao.values[\"CPTS\"]}\\nFoi contratado no ano de {situacao.values[\"Ano de Contratação\"]}.')\n",
    "    print(f'Com o salário de: {situacao.values[\"Salário\"]}\\nE se aposentará daqui a {tempo_aposentar} anos.')\n",
    "else:\n",
    "    print(f'Nome: {situacao.keys[\"Nome\"]}\\nData de Nascimento: {situacao.keys[\"Data de Nascimento\"]}\\nNão possui carteira de trabalho.')\n",
    "\n",
    "#Não funcional"
   ]
  },
  {
   "cell_type": "code",
   "execution_count": 7,
   "metadata": {},
   "outputs": [
    {
     "name": "stdout",
     "output_type": "stream",
     "text": [
      "Nome tem o valor de Rodrigo.\n",
      "Nacimento tem o valor de 2000.\n",
      "CTPS tem o valor de 2345.\n",
      "Contratação tem o valor de 2020.\n",
      "Salário tem o valor de 15000.0.\n",
      "Idade tem o valor de 23.\n",
      "Aposentadoria tem o valor de 55.\n"
     ]
    }
   ],
   "source": [
    "#Versão do professor\n",
    "\n",
    "perfil = dict()\n",
    "perfil['Nome'] = str(input('Nome: '))\n",
    "perfil['Nacimento'] = int(input('Ano de Nascimento: '))\n",
    "perfil['CTPS'] = int(input('Carteira de trabalho [0 não tem]'))\n",
    "if perfil['CTPS'] > 0:\n",
    "    perfil['Contratação'] = int(input('Ano de contratação]'))\n",
    "    perfil['Salário'] = float(input('Salário]'))\n",
    "    perfil['Idade'] = idade = 2023 - perfil['Nacimento']\n",
    "    perfil['Aposentadoria'] = aposentadoria = perfil['Contratação'] - perfil['Nacimento'] + 35\n",
    "else:\n",
    "    perfil['Idade'] = idade = 2023 - perfil['Nacimento']\n",
    "for k, v in perfil.items():\n",
    "    print(f'{k} tem o valor de {v}.')"
   ]
  },
  {
   "cell_type": "markdown",
   "metadata": {},
   "source": [
    "#Crie um programa que gerencia o aproveitamento de um jogador de futebol.\n",
    "\n",
    "O programa vai ler o nome do jogador e quantas partidas ele jogou.\n",
    "\n",
    "Depois vai ler a quantidade de gols feitos em cada partida.\n",
    "\n",
    "No final, tudo isso será guardado em um dicionário, incluindo o total de gols feitos durenate o campeonato."
   ]
  },
  {
   "cell_type": "code",
   "execution_count": null,
   "metadata": {},
   "outputs": [],
   "source": [
    "#Minha versão\n",
    "\n",
    "perfil = dict()\n",
    "perfil['Nome'] = str(input('Nome: '))\n",
    "perfil['Partidas'] = int(input('Partidas Jogadas: '))\n",
    "perfil['GOL'] = int(input('Gols na priemira partida'))\n",
    "\n",
    "#TIvemos cerca de 3 minutos até ele fazer :-)"
   ]
  },
  {
   "cell_type": "code",
   "execution_count": null,
   "metadata": {},
   "outputs": [],
   "source": [
    "#versão do professor\n",
    "\n",
    "jogador = dict()\n",
    "gols = []\n",
    "jogador['Nome'] = str(input('Nome: '))\n",
    "partidas = int(input(f'Qauntas Partidas {jogador[\"Nome\"]} jogou? '))\n",
    "for c in range(1, partidas+1):\n",
    "    gols.append(int(input(f'Quantos gols ele marcou na {c} partida? ')))\n",
    "\n",
    "jogador['Gols'] = gols\n",
    "jogador['Total'] = sum(gols)\n",
    "sum(jogador)\n",
    "\n",
    "#Não deu tempo de terminar."
   ]
  }
 ],
 "metadata": {
  "kernelspec": {
   "display_name": "Python 3",
   "language": "python",
   "name": "python3"
  },
  "language_info": {
   "codemirror_mode": {
    "name": "ipython",
    "version": 3
   },
   "file_extension": ".py",
   "mimetype": "text/x-python",
   "name": "python",
   "nbconvert_exporter": "python",
   "pygments_lexer": "ipython3",
   "version": "3.11.4"
  },
  "orig_nbformat": 4
 },
 "nbformat": 4,
 "nbformat_minor": 2
}
