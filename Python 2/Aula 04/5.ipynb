{
 "cells": [
  {
   "cell_type": "markdown",
   "metadata": {},
   "source": [
    "Faça um programa que tenha uma lista chamada números e duas funções chamada sorteia() e somaPar(). A primeira função\n",
    "vai sortear 5 números e vai coloca-los dentro da lista e a segunda função vai mostrar a soma entre todos os valores\n",
    "pares sorteados pela função anterior."
   ]
  },
  {
   "cell_type": "code",
   "execution_count": 5,
   "metadata": {},
   "outputs": [
    {
     "name": "stdout",
     "output_type": "stream",
     "text": [
      "Os números sorteados foram [27, 86, 96, 84, 2].\n",
      "As somas dos números pares deu 268.\n"
     ]
    }
   ],
   "source": [
    "#Versão do professor\n",
    "\n",
    "\n",
    "def sorteia(lista):\n",
    "    from random import randint\n",
    "    for c in range(1, 6):\n",
    "        num = randint(1, 100)\n",
    "        lista.append(num)\n",
    "    print(f'Os números sorteados foram {lista}.')\n",
    "\n",
    "\n",
    "\n",
    "def somaPar(lista):\n",
    "    soma = 0\n",
    "    for c in lista:\n",
    "        if c % 2 == 0:\n",
    "            soma+= c\n",
    "    print(f'As somas dos números pares deu {soma}.')\n",
    "\n",
    "\n",
    "\n",
    "NUMEROS = list()\n",
    "sorteia(NUMEROS)\n",
    "somaPar(NUMEROS)\n",
    "\n",
    "#Faltou tempo."
   ]
  }
 ],
 "metadata": {
  "kernelspec": {
   "display_name": "Python 3",
   "language": "python",
   "name": "python3"
  },
  "language_info": {
   "codemirror_mode": {
    "name": "ipython",
    "version": 3
   },
   "file_extension": ".py",
   "mimetype": "text/x-python",
   "name": "python",
   "nbconvert_exporter": "python",
   "pygments_lexer": "ipython3",
   "version": "3.11.4"
  },
  "orig_nbformat": 4
 },
 "nbformat": 4,
 "nbformat_minor": 2
}
