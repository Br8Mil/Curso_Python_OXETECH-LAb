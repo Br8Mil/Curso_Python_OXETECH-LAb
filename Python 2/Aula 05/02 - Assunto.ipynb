{
 "cells": [
  {
   "cell_type": "code",
   "execution_count": null,
   "metadata": {},
   "outputs": [],
   "source": [
    "import pandas_datareader.data as web\n",
    "import matplotlib.pyplot as plt\n",
    "import yfinance as yf\n",
    "import pandas as pd\n",
    "yf.pdr_override()\n",
    "\n",
    "tabela_cotacao = pd.read_excel('empresas.xlsx') # falta o arquivo.\n",
    "dsiplay(tabela_cotacao)\n",
    "\n",
    "for empresas in tabela_cotacao['Ticker']\n",
    "\n",
    "cotacao = web.get_data_yahoo(f'{empresas}', start=\"2023-01-01\", end=\"2023-08-27\")\n",
    "display(cotacao)\n",
    "cotacao['Adj Close'].plot() #Vai gerar um gráfico apenas com a coluna selecionada.\n",
    "plt.show()\n",
    "#ticker, é o código da minha cotação.\n",
    "#start, é a data de ínicio, no padrão AAAA/MM/DD.\n",
    "#end, é a data até onde será gerado o ralátorio no padrão AAAA/MM/DD."
   ]
  }
 ],
 "metadata": {
  "language_info": {
   "name": "python"
  },
  "orig_nbformat": 4
 },
 "nbformat": 4,
 "nbformat_minor": 2
}
