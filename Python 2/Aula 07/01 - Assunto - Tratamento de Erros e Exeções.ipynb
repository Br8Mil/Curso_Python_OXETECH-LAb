{
 "cells": [
  {
   "cell_type": "code",
   "execution_count": 4,
   "metadata": {},
   "outputs": [
    {
     "name": "stdout",
     "output_type": "stream",
     "text": [
      "hoje e a aula 07.\n"
     ]
    }
   ],
   "source": [
    "try:\n",
    "    with open('aula.txt', 'r') as aula:\n",
    "        print(aula.read())\n",
    "    #'r' = read, ou seja, apenas leitura;\n",
    "    #'w' = write, ou seja posso escrever no arquivo, porém, vou substituir pelo o que tinha.\n",
    "    #'a' eu posso adicinar mais texto sem apagar, o que tinha antes.\n",
    "except:\n",
    "    print('Documento não encontrado')"
   ]
  },
  {
   "cell_type": "code",
   "execution_count": 9,
   "metadata": {},
   "outputs": [
    {
     "name": "stdout",
     "output_type": "stream",
     "text": [
      "[Errno 2] No such file or directory: 'aul.txt'\n",
      "Forneça o nome do arquivo corretamente.\n"
     ]
    }
   ],
   "source": [
    "try:\n",
    "    with open('aul.txt', 'r') as aula:\n",
    "        print(aula.read())\n",
    "except FileNotFoundError as fnfe:\n",
    "    print(fnfe)\n",
    "    print('Forneça o nome do arquivo corretamente.')"
   ]
  },
  {
   "cell_type": "code",
   "execution_count": 11,
   "metadata": {},
   "outputs": [
    {
     "name": "stdout",
     "output_type": "stream",
     "text": [
      "Não e possível dividir um número por zero.\n"
     ]
    }
   ],
   "source": [
    "try:\n",
    "    a = 2\n",
    "    b = 0\n",
    "    c = a/b\n",
    "    print(c)\n",
    "except ZeroDivisionError:\n",
    "    print('Não e possível dividir um número por zero.')#Para ignorar use o pass."
   ]
  },
  {
   "cell_type": "code",
   "execution_count": 2,
   "metadata": {},
   "outputs": [
    {
     "name": "stdout",
     "output_type": "stream",
     "text": [
      "Erro por não ser poosível dividir por zero.\n",
      "Viu que ele aparece!\n"
     ]
    }
   ],
   "source": [
    "try:\n",
    "    a = 2\n",
    "    b = 0\n",
    "    c = a/b\n",
    "    print(c)\n",
    "except ZeroDivisionError:\n",
    "    print('Erro por não ser poosível dividir por zero.')#Para ignorar use o pass.\n",
    "else:#É o que vai acontecer se nenhum erro for encontrado.\n",
    "    print('Nehum erro detectado.')\n",
    "#finally: É o que vai aacontecer independente do resultado.\n",
    "finally:\n",
    "    print('Viu que ele aparece!')"
   ]
  }
 ],
 "metadata": {
  "kernelspec": {
   "display_name": "Python 3",
   "language": "python",
   "name": "python3"
  },
  "language_info": {
   "codemirror_mode": {
    "name": "ipython",
    "version": 3
   },
   "file_extension": ".py",
   "mimetype": "text/x-python",
   "name": "python",
   "nbconvert_exporter": "python",
   "pygments_lexer": "ipython3",
   "version": "3.11.4"
  },
  "orig_nbformat": 4
 },
 "nbformat": 4,
 "nbformat_minor": 2
}
