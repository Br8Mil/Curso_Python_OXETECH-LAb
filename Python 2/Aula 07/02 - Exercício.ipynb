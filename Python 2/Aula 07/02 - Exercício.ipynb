{
 "cells": [
  {
   "cell_type": "markdown",
   "metadata": {},
   "source": [
    "#Faça um programa que calcule a área de um terreno. porém se algum dado fornecido estiver errado, mostre a mensagem 'erro de informação'."
   ]
  },
  {
   "cell_type": "code",
   "execution_count": 5,
   "metadata": {},
   "outputs": [
    {
     "name": "stdout",
     "output_type": "stream",
     "text": [
      "erro de infomrmação.\n"
     ]
    }
   ],
   "source": [
    "try:\n",
    "    altura = int(input('Digite a altura: '))\n",
    "    largura = int(input('Digite a largura: '))\n",
    "    print(f'A área do terreno e de {altura * largura} m².')\n",
    "except:\n",
    "    print('erro de infomrmação.')"
   ]
  },
  {
   "cell_type": "markdown",
   "metadata": {},
   "source": [
    "Faça um programa que receba dois números digitados pelo usuário e divida um pelo outro. Se o segundo número digitado for zero vai aparecer o tipo de erro.\n",
    "\n",
    "- Se ao invés de número, o usuário digitar letras, irá aparecer o outro tipo de erro."
   ]
  },
  {
   "cell_type": "code",
   "execution_count": 17,
   "metadata": {},
   "outputs": [
    {
     "name": "stdout",
     "output_type": "stream",
     "text": [
      "2.0\n"
     ]
    }
   ],
   "source": [
    "try:\n",
    "    numero_1 = int(input('Digite o primeiro número: '))\n",
    "    numero_2 = int(input('Digite o segundo número: '))\n",
    "    resultado = numero_1 / numero_2\n",
    "except ZeroDivisionError:\n",
    "    print('Não e possível dividir por zero.')\n",
    "except ValueError:\n",
    "    print('por favor digite um número ao invez de letras ou símbolos.')\n",
    "else:\n",
    "    print(resultado)"
   ]
  },
  {
   "cell_type": "markdown",
   "metadata": {},
   "source": [
    "Faça uma função que leia números inteiros até que você faça ela parar. Caso o número digitado seja um valor invalido, continue a solicitar números, mas mostre o tipo de erro que ocorreu. No fim informe quantos números foram digitados.\n",
    "7\n",
    "5\n",
    "SETE - Informe um número inteiro.\n",
    "7\n",
    "8\n",
    "parar.\n",
    "você digitou 4 números."
   ]
  },
  {
   "cell_type": "code",
   "execution_count": null,
   "metadata": {},
   "outputs": [],
   "source": [
    "#Minha versão\n",
    "\n",
    "quanti_numeros = 0\n",
    "while True:\n",
    "    try:\n",
    "        pergunta = int(input('Digite um número: '))\n",
    "        quanti_numeros+= 1\n",
    "        print('valor aceito.')\n",
    "\n",
    "    except ValueError:\n",
    "            if pergunta != 'parar':\n",
    "                print('Por favor digite apenas números, ou o comando parar.')\n",
    "            elif pergunta == 'pergunta':\n",
    "                break\n",
    "        \n",
    "print(f'Foram digitados {quanti_numeros} valores.')\n",
    "\n",
    "#Falta fazer o programa parar qaundo digitado o comando parar.\n",
    "\n"
   ]
  },
  {
   "cell_type": "code",
   "execution_count": 2,
   "metadata": {},
   "outputs": [
    {
     "name": "stdout",
     "output_type": "stream",
     "text": [
      "O total de números digitados foi 3.\n"
     ]
    }
   ],
   "source": [
    "#Versão do professor\n",
    "\n",
    "lista = list()\n",
    "while True:\n",
    "    try:\n",
    "        num = int(input('Digite um número inteiro: '))\n",
    "        resp = str(input('Deseja continuar? [S/N]')).strip()\n",
    "        lista.append(num)\n",
    "        if resp in 'Nn':\n",
    "            break\n",
    "    except ValueError as vl:\n",
    "        print(f'Informe apenas números interios. {vl}')\n",
    "    except KeyboardInterrupt as kb:\n",
    "        print(f'Programa está sendo interrompido. Aperte de novo para sair. {kb}')\n",
    "print(f'O total de números digitados foi {len(lista)}.')"
   ]
  },
  {
   "cell_type": "markdown",
   "metadata": {},
   "source": [
    "Faça um programa que permita que o usuário crie um arquivo de texto pelo própio Pyhton, com a mensagem que ele desejar.\n",
    "O usuário vai poder criar novos arquivos de texto, editar arquivos já criados ou apenas visualizar os txt existentes.\n",
    "Também faça os tratamentos para os possíveis erros que possam aparecer."
   ]
  },
  {
   "cell_type": "code",
   "execution_count": null,
   "metadata": {},
   "outputs": [],
   "source": [
    "#Não funciona\n",
    "\n",
    "while True:\n",
    "    print('''Escolha uma função\n",
    "    \n",
    "    1 - Criar arquivo.\n",
    "    2 - Sobrescrever texto no arquivo.\n",
    "    3 - Adicionar + texto ao arquivo.\n",
    "    4 - Ler arquivo.\n",
    "    5 - Fechar o programa.\n",
    "          ''')\n",
    "    pergunta = int(input('o que gostaria de fazer? '))\n",
    "\n",
    "    if pergunta == 1:\n",
    "        pergunta_1 = input('Qual o nome do arquivo? Não esqueca de colocar .txt no final')\n",
    "        pergunta_2 = input('\\nEscreva o texto: ')\n",
    "        with open({pergunta_1}, 'w'):\n",
    "            pergunta_1.txt.write('{pergunta_2}')\n",
    "    elif pergunta == 2:\n",
    "        pass\n",
    "    elif pergunta == 3:\n",
    "       pass\n",
    "    elif pergunta == 4:\n",
    "        pass\n",
    "    elif pergunta == 5:\n",
    "        break"
   ]
  },
  {
   "cell_type": "code",
   "execution_count": null,
   "metadata": {},
   "outputs": [],
   "source": [
    "#Versão do professor\n",
    "\n",
    "arq_inicial = str(input('Digite o nome do seu arquivo .txt'))\n",
    "conteudo_txt = str(input('Digite o conteúdo do seus arquvio: '))\n",
    "with open({arq_inicial}, 'w') as txt_inicial:\n",
    "    txt_inicial.write(conteudo_txt)\n",
    "\n",
    "#Faltou tempo."
   ]
  }
 ],
 "metadata": {
  "kernelspec": {
   "display_name": "Python 3",
   "language": "python",
   "name": "python3"
  },
  "language_info": {
   "codemirror_mode": {
    "name": "ipython",
    "version": 3
   },
   "file_extension": ".py",
   "mimetype": "text/x-python",
   "name": "python",
   "nbconvert_exporter": "python",
   "pygments_lexer": "ipython3",
   "version": "3.11.4"
  },
  "orig_nbformat": 4
 },
 "nbformat": 4,
 "nbformat_minor": 2
}
