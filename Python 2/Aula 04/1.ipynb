{
 "cells": [
  {
   "cell_type": "code",
   "execution_count": 11,
   "metadata": {},
   "outputs": [
    {
     "name": "stdout",
     "output_type": "stream",
     "text": [
      "==================================================\n",
      "Aula de Hoje\n",
      "==================================================\n",
      "==================================================\n",
      "Curso\n",
      "==================================================\n"
     ]
    }
   ],
   "source": [
    "#Assunto\n",
    "\n",
    "def linha(msg):\n",
    "    print('=' * 50)\n",
    "    print(msg)\n",
    "    print('=' * 50)\n",
    "\n",
    "linha('Aula de Hoje')\n",
    "\n",
    "linha('Curso')"
   ]
  },
  {
   "cell_type": "code",
   "execution_count": 15,
   "metadata": {},
   "outputs": [
    {
     "name": "stdout",
     "output_type": "stream",
     "text": [
      "============\n",
      "Aula de Hoje\n",
      "============\n",
      "=====\n",
      "Curso\n",
      "=====\n"
     ]
    }
   ],
   "source": [
    "#Atividade\n",
    "\n",
    "def linha(msg):\n",
    "    print('=' * len(msg))\n",
    "    print(msg)\n",
    "    print('=' * len(msg))\n",
    "\n",
    "linha('Aula de Hoje')\n",
    "\n",
    "linha('Curso')"
   ]
  }
 ],
 "metadata": {
  "kernelspec": {
   "display_name": "Python 3",
   "language": "python",
   "name": "python3"
  },
  "language_info": {
   "codemirror_mode": {
    "name": "ipython",
    "version": 3
   },
   "file_extension": ".py",
   "mimetype": "text/x-python",
   "name": "python",
   "nbconvert_exporter": "python",
   "pygments_lexer": "ipython3",
   "version": "3.11.4"
  },
  "orig_nbformat": 4
 },
 "nbformat": 4,
 "nbformat_minor": 2
}
