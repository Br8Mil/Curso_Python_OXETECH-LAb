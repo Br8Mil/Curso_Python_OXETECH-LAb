{
 "cells": [
  {
   "cell_type": "code",
   "execution_count": 1,
   "metadata": {},
   "outputs": [
    {
     "name": "stdout",
     "output_type": "stream",
     "text": [
      "9.0\n",
      "\n",
      "{'João': 5.5, 'Gabriel': 8.0, 'Maria': 9.0, 'Lilian': 10.0}\n",
      "\n",
      "{'Gabriel': 8.0, 'Maria': 9.0, 'Lilian': 10.0}\n",
      "\n"
     ]
    }
   ],
   "source": [
    "alunos_nota = {\"João\": 5.5, 'Gabriel':8.0, 'Maria':9.0 }\n",
    "print(alunos_nota['Maria'])\n",
    "print()\n",
    "alunos_nota['Lilian'] = 10.0  # Só pode haver 1 chave com o mesmo nome, caso repita ele vai substituir o existente com o novo valor.\n",
    "print(alunos_nota)\n",
    "print()\n",
    "alunos_nota.pop('João')\n",
    "print(alunos_nota)\n",
    "print()\n",
    "\n",
    "#keys = chave do dicionário.\n",
    "# values = valores do dicionário.\n"
   ]
  },
  {
   "cell_type": "code",
   "execution_count": 2,
   "metadata": {},
   "outputs": [
    {
     "name": "stdout",
     "output_type": "stream",
     "text": [
      "8.0\n",
      "9.0\n",
      "10.0\n",
      "\n",
      "Gabriel\n",
      "Maria\n",
      "Lilian\n",
      "\n",
      "('Gabriel', 8.0)\n",
      "('Maria', 9.0)\n",
      "('Lilian', 10.0)\n",
      "\n"
     ]
    }
   ],
   "source": [
    "for c in alunos_nota.values():  #mostra somente os valores.\n",
    "    print(c)\n",
    "print()\n",
    "for c in alunos_nota.keys():  #mostra a chave como a valor.\n",
    "    print(c)\n",
    "print()\n",
    "for c in alunos_nota.items():  #mostra, tanto as chaves quanto os valores do dicionário.\n",
    "    print(c)\n",
    "print()"
   ]
  },
  {
   "cell_type": "code",
   "execution_count": 3,
   "metadata": {},
   "outputs": [
    {
     "name": "stdout",
     "output_type": "stream",
     "text": [
      "A chave e Gabriel e o valor é 8.0\n",
      "A chave e Maria e o valor é 9.0\n",
      "A chave e Lilian e o valor é 10.0\n"
     ]
    }
   ],
   "source": [
    "for k, v in alunos_nota.items():\n",
    "    print(f'A chave e {k} e o valor é {v:}')"
   ]
  },
  {
   "cell_type": "code",
   "execution_count": 5,
   "metadata": {},
   "outputs": [
    {
     "name": "stdout",
     "output_type": "stream",
     "text": [
      "{'Gabriel': 8.0, 'Maria': 9.0, 'Lilian': 10.0, 'Rodrigo': 10.0}\n"
     ]
    }
   ],
   "source": [
    "nome = str(input('Digite o nome do aluno: '))\n",
    "alunos_nota[nome] = float(input(f'Qual foi a nota de {nome}?'))\n",
    "print(alunos_nota)"
   ]
  },
  {
   "cell_type": "code",
   "execution_count": 6,
   "metadata": {},
   "outputs": [
    {
     "name": "stdout",
     "output_type": "stream",
     "text": [
      "[{'João': 5.5, 'Gabriel': 8.0, 'Maria': 9.0}, {'Joana': 6.0, 'José': 7.0, 'Gabriel': 2.0}]\n",
      "{'João': 5.5, 'Gabriel': 8.0, 'Maria': 9.0}\n",
      "\n",
      "8.0, 2.0\n"
     ]
    }
   ],
   "source": [
    "listas = [{\"João\": 5.5, 'Gabriel':8.0, 'Maria':9.0 }, {\"Joana\": 6.0, 'José':7.0, 'Gabriel':2.0 }]\n",
    "print(listas)\n",
    "print(listas[0])\n",
    "print()\n",
    "print(f\"{listas[0]['Gabriel']}, {listas[1]['Gabriel']}\")"
   ]
  },
  {
   "cell_type": "code",
   "execution_count": 7,
   "metadata": {},
   "outputs": [
    {
     "name": "stdout",
     "output_type": "stream",
     "text": [
      "João 5.5\n",
      "Gabriel 8.0\n",
      "Maria 9.0\n",
      "Joana 6.0\n",
      "José 7.0\n",
      "Gabriel 2.0\n"
     ]
    }
   ],
   "source": [
    "for c in listas:\n",
    "    for k, v in c.items():\n",
    "        print(k, v)"
   ]
  },
  {
   "cell_type": "code",
   "execution_count": 5,
   "metadata": {},
   "outputs": [
    {
     "name": "stdout",
     "output_type": "stream",
     "text": [
      "[{'UF': 'Alagoas', 'Sigla': 'AL'}, {'UF': 'Bahia', 'Sigla': 'BH'}, {'UF': 'São Paulo', 'Sigla': 'SP'}]\n",
      "\n",
      "{'UF': 'Alagoas', 'Sigla': 'AL'}\n",
      "A chave e UF e o valor e Alagoas.\n",
      "A chave e Sigla e o valor e AL.\n",
      "{'UF': 'Bahia', 'Sigla': 'BH'}\n",
      "A chave e UF e o valor e Bahia.\n",
      "A chave e Sigla e o valor e BH.\n",
      "{'UF': 'São Paulo', 'Sigla': 'SP'}\n",
      "A chave e UF e o valor e São Paulo.\n",
      "A chave e Sigla e o valor e SP.\n"
     ]
    }
   ],
   "source": [
    "brasil = dict()\n",
    "lista_uf = []\n",
    "for c in range(1, 4):\n",
    "    brasil['UF'] = str(input('Digite a UF do estado: '))\n",
    "    brasil['Sigla'] = str(input('Digite a sigla do estado: '))\n",
    "    lista_uf.append(brasil.copy())  #Cria uma cópia do dicionário e salva na lista.\n",
    "print(lista_uf)\n",
    "print()\n",
    "for c in lista_uf:\n",
    "    print(c)\n",
    "    for k, v in c.items():\n",
    "        print(f'A chave e {k} e o valor e {v}.')\n",
    "\n",
    "#Teve erros meu na hora de digitar o código, por isso ele não dando a chave e esta chamando de UF."
   ]
  }
 ],
 "metadata": {
  "kernelspec": {
   "display_name": "Python 3",
   "language": "python",
   "name": "python3"
  },
  "language_info": {
   "codemirror_mode": {
    "name": "ipython",
    "version": 3
   },
   "file_extension": ".py",
   "mimetype": "text/x-python",
   "name": "python",
   "nbconvert_exporter": "python",
   "pygments_lexer": "ipython3",
   "version": "3.11.4"
  },
  "orig_nbformat": 4
 },
 "nbformat": 4,
 "nbformat_minor": 2
}
