{
 "cells": [
  {
   "cell_type": "markdown",
   "metadata": {},
   "source": [
    "Faça um programa que leia 5 valores e garde-os em uma lista.\n",
    "No final, mostre qual foi o maior e menor valor digitado.\n",
    "e as suas respectivas posições na lista."
   ]
  },
  {
   "cell_type": "code",
   "execution_count": 8,
   "metadata": {},
   "outputs": [
    {
     "name": "stdout",
     "output_type": "stream",
     "text": [
      "O menor valor foi 1 e sua posição e 0, e o maior foi 5 e sua posição e 4.\n"
     ]
    }
   ],
   "source": [
    "#Minha Versão.\n",
    "\n",
    "lista = []\n",
    "for c in range(1, 6):\n",
    "    lista.append(c)\n",
    "menor, maior = min(lista), max(lista)\n",
    "print(f'O menor valor foi {menor} e sua posição e {lista.index(menor)}, e o maior foi {maior} e sua posição e {lista.index(maior)}.')\n"
   ]
  },
  {
   "cell_type": "code",
   "execution_count": null,
   "metadata": {},
   "outputs": [],
   "source": [
    "#Versão do Professor.\n",
    "\n",
    "num = list()\n",
    "for c in range(1, 6):\n",
    "    num.append(int(input(f'Digite o {c}° número: ')))\n",
    "    print(',=' * 20)\n",
    "print(f'A sua lista geral foi: {num}')\n",
    "print(f'\\nO maior valor da sua lista foi {max(num)}, na posição ', end='')\n",
    "for c, v in enumerate(num):\n",
    "    if v == max(num):\n",
    "        print(f'{c}...', end='')\n",
    "#Não deu tempo de terminar"
   ]
  }
 ],
 "metadata": {
  "kernelspec": {
   "display_name": "Python 3",
   "language": "python",
   "name": "python3"
  },
  "language_info": {
   "codemirror_mode": {
    "name": "ipython",
    "version": 3
   },
   "file_extension": ".py",
   "mimetype": "text/x-python",
   "name": "python",
   "nbconvert_exporter": "python",
   "pygments_lexer": "ipython3",
   "version": "3.11.4"
  },
  "orig_nbformat": 4
 },
 "nbformat": 4,
 "nbformat_minor": 2
}
