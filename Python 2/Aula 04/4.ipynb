{
 "cells": [
  {
   "cell_type": "markdown",
   "metadata": {},
   "source": [
    "Faça um programa que tenha função chamada maior(). Que receba vários parâmetros com valores inteiros.\n",
    "Seu programa tem que analisar todos os valores. dizer quantos números tem, e qual deles é o maior."
   ]
  },
  {
   "cell_type": "code",
   "execution_count": 3,
   "metadata": {},
   "outputs": [
    {
     "name": "stdout",
     "output_type": "stream",
     "text": [
      "total de números é 5, e o maior é 900.\n"
     ]
    }
   ],
   "source": [
    "#Minha versão\n",
    "\n",
    "lista = []\n",
    "\n",
    "def maior():\n",
    "    \n",
    "    while True:\n",
    "        valor = int(input('Digite o valor: '))\n",
    "        lista.append(valor)\n",
    "        while True:\n",
    "            per = str(input('Gostaria de adicionar + valores? [s/n]')).strip().lower()\n",
    "            if per == 's':\n",
    "                maior()\n",
    "            elif per =='n':\n",
    "                print(f'total de números é {len(lista)}, e o maior é {max(lista)}.')\n",
    "                break\n",
    "            \n",
    "\n",
    "maior()\n",
    "\n"
   ]
  },
  {
   "cell_type": "code",
   "execution_count": 3,
   "metadata": {},
   "outputs": [
    {
     "name": "stdout",
     "output_type": "stream",
     "text": [
      "Os valores são [8, 9, 7, 900, 836, 1000, 7865, 764, 1, 0, 19, 12].\n",
      "Total de números é 12, e o maior é 7865.\n"
     ]
    }
   ],
   "source": [
    "#Minha versão 2\n",
    "\n",
    "def maior():\n",
    "    valores = [8, 9, 7, 900, 836, 1000, 7865, 764, 1, 0, 19, 12]\n",
    "    print(f'Os valores são {valores}.\\nTotal de números é {len(valores)}, e o maior é {max(valores)}.')\n",
    "\n",
    "maior()"
   ]
  },
  {
   "cell_type": "code",
   "execution_count": 6,
   "metadata": {},
   "outputs": [
    {
     "name": "stdout",
     "output_type": "stream",
     "text": [
      "Ao todo você forneceu 5 valores.\n",
      "O maior valor foi 15.\n"
     ]
    }
   ],
   "source": [
    "#Versão do professor\n",
    "\n",
    "def maior(*num):\n",
    "    print(f'Ao todo você forneceu {len(num)} valores.')\n",
    "    print(f'O maior valor foi {max(num)}.')\n",
    "\n",
    "maior (9, 10, 15, 2, 8)"
   ]
  }
 ],
 "metadata": {
  "kernelspec": {
   "display_name": "Python 3",
   "language": "python",
   "name": "python3"
  },
  "language_info": {
   "codemirror_mode": {
    "name": "ipython",
    "version": 3
   },
   "file_extension": ".py",
   "mimetype": "text/x-python",
   "name": "python",
   "nbconvert_exporter": "python",
   "pygments_lexer": "ipython3",
   "version": "3.11.4"
  },
  "orig_nbformat": 4
 },
 "nbformat": 4,
 "nbformat_minor": 2
}
