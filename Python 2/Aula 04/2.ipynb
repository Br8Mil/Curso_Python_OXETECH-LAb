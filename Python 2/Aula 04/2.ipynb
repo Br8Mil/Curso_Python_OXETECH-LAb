{
 "cells": [
  {
   "cell_type": "code",
   "execution_count": 9,
   "metadata": {},
   "outputs": [
    {
     "name": "stdout",
     "output_type": "stream",
     "text": [
      "O valor de A é 10, o de B é 20 e sua soma é 30.\n",
      "\n",
      "O valor de A é 8, o de B é 7 e sua soma é 15.\n",
      "\n",
      "O valor de A é 3, o de B é 4 e sua soma é 7.\n",
      "\n",
      "O valor de A é 2, o de B é 1 e sua soma é 3.\n",
      "\n"
     ]
    }
   ],
   "source": [
    "#assunto\n",
    "\n",
    "def soma(a, b):\n",
    "    print(f'O valor de A é {a}, o de B é {b} e sua soma é {a + b}.\\n')\n",
    "\n",
    "\n",
    "soma(10, 20)\n",
    "soma (b = 7, a = 8)\n",
    "soma (3, 4)\n",
    "soma (b = 1, a = 2)"
   ]
  },
  {
   "cell_type": "code",
   "execution_count": 48,
   "metadata": {},
   "outputs": [
    {
     "name": "stdout",
     "output_type": "stream",
     "text": [
      "10\n",
      "20\n",
      "40\n",
      "80\n",
      "75\n",
      "32\n",
      "7\n",
      "8\n",
      "3\n",
      "4\n",
      "1\n",
      "2\n"
     ]
    }
   ],
   "source": [
    "#assunto\n",
    "\n",
    "def soma(* num):\n",
    "    for lista in num:\n",
    "        print(lista)\n",
    "\n",
    "\n",
    "soma(10, 20, 40, 80, 75, 32)\n",
    "soma (7, 8)\n",
    "soma (3, 4)\n",
    "soma (1, 2)\n",
    "\n",
    "# [] Lista - São mutáveis.\n",
    "# () Tupla - são imutáveis."
   ]
  },
  {
   "cell_type": "code",
   "execution_count": 55,
   "metadata": {},
   "outputs": [
    {
     "name": "stdout",
     "output_type": "stream",
     "text": [
      "A soma dos valores foi 257.\n",
      "A soma dos valores foi 15.\n",
      "A soma dos valores foi 7.\n",
      "A soma dos valores foi 3.\n"
     ]
    }
   ],
   "source": [
    "#Atividade\n",
    "\n",
    "def soma(* num):\n",
    "    s = 0\n",
    "    for lista in num:\n",
    "        s+= lista\n",
    "    print(f'A soma dos valores foi {s}.')\n",
    "\n",
    "\n",
    "soma(10, 20, 40, 80, 75, 32)\n",
    "soma (7, 8)\n",
    "soma (3, 4)\n",
    "soma (1, 2)"
   ]
  },
  {
   "cell_type": "code",
   "execution_count": 61,
   "metadata": {},
   "outputs": [
    {
     "name": "stdout",
     "output_type": "stream",
     "text": [
      "8\n",
      "9\n",
      "4\n",
      "3\n"
     ]
    }
   ],
   "source": [
    "#Assunto\n",
    "\n",
    "def soma(num):\n",
    "    for lista in num:\n",
    "        print(lista)\n",
    "\n",
    "\n",
    "valores = [8, 9, 4, 3]\n",
    "soma(valores)"
   ]
  },
  {
   "cell_type": "code",
   "execution_count": 79,
   "metadata": {},
   "outputs": [
    {
     "name": "stdout",
     "output_type": "stream",
     "text": [
      "[10, 78, 372, 9450, 148072]\n"
     ]
    }
   ],
   "source": [
    "#Atividade\n",
    "\n",
    "def dobra(num):\n",
    "    pos = 0\n",
    "    while pos < len(num):\n",
    "        num[pos]*= 2\n",
    "        pos+= 1\n",
    "\n",
    "\n",
    "valores = [5, 39, 186, 4725, 74036]\n",
    "dobra(valores)\n",
    "print(valores)"
   ]
  }
 ],
 "metadata": {
  "kernelspec": {
   "display_name": "Python 3",
   "language": "python",
   "name": "python3"
  },
  "language_info": {
   "codemirror_mode": {
    "name": "ipython",
    "version": 3
   },
   "file_extension": ".py",
   "mimetype": "text/x-python",
   "name": "python",
   "nbconvert_exporter": "python",
   "pygments_lexer": "ipython3",
   "version": "3.11.4"
  },
  "orig_nbformat": 4
 },
 "nbformat": 4,
 "nbformat_minor": 2
}
